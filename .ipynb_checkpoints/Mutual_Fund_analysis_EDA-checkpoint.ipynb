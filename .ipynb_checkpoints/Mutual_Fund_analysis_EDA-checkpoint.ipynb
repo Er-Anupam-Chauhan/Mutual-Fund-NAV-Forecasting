{
 "cells": [
  {
   "cell_type": "raw",
   "id": "7eaccc5e",
   "metadata": {},
   "source": [
    "Data fields:\n",
    "\n",
    "Scheme Name: Name of the mutual fund scheme\n",
    "\n",
    "Min sip: Min sip amount required to start.\n",
    "\n",
    "Min lumpsum: Min lumpsum amount required to start.\n",
    "\n",
    "Expense ratio: calculated as a percentage of the Scheme's average Net Asset Value (NAV).\n",
    "\n",
    "Fund size: the total amount of money that a mutual fund manager must oversee and invest.\n",
    "\n",
    "Fund age: years since inception of scheme\n",
    "\n",
    "Fund manager: A fund manager is responsible for implementing a fund's investment strategy and managing its trading activities.\n",
    "\n",
    "Sortino : Sortino ratio measures the risk-adjusted return of an investment asset, portfolio, or strategy\n",
    "\n",
    "Alpha: Alpha is the excess returns relative to market benchmark for a given amount of risk taken by the scheme\n",
    "\n",
    "Standard deviation: A standard deviation is a number that can be used to show how much the returns of a mutual fund scheme are likely to deviate from its average annual returns.\n",
    "\n",
    "Beta: Beta in a mutual fund is often used to convey the fund's volatility (gains or losses) in relation to its respective benchmark index\n",
    "\n",
    "Sharpe: Sharpe Ratio of a mutual fund reveals its potential risk-adjusted returns\n",
    "\n",
    "Risk level:\n",
    "1- Low risk\n",
    "2- Low to moderate\n",
    "3- Moderate\n",
    "4- Moderately High\n",
    "5- High\n",
    "6- Very High\n",
    "\n",
    "AMC name: Mutual fund house managing the assets.\n",
    "\n",
    "Rating: 0-5 rating assigned to scheme\n",
    "\n",
    "Category: The category to which the mutual fund belongs (e.g. equity, debt, hybrid)\n",
    "\n",
    "Sub-category : It includes category like Small cap, Large cap, ELSS, etc.\n",
    "\n",
    "Return_1yr (%): The return percentage of the mutual fund scheme over 1 year.\n",
    "\n",
    "Return_3yr (%): The return percentage of the mutual fund scheme over 3 year.\n",
    "\n",
    "Return_5yr (%): The return percentage of the mutual fund scheme over 5year."
   ]
  },
  {
   "cell_type": "code",
   "execution_count": 1,
   "id": "f078cbcc",
   "metadata": {},
   "outputs": [],
   "source": [
    "import pandas as pd \n",
    "import numpy as np\n",
    "import matplotlib as plt\n",
    "import seaborn as sb"
   ]
  },
  {
   "cell_type": "code",
   "execution_count": 2,
   "id": "e9ab8053",
   "metadata": {},
   "outputs": [],
   "source": [
    "mfd = pd.read_csv(r\"D:\\Projects\\Mutual Fund Analysis\\data\\comprehensive_mutual_funds_data.csv\")"
   ]
  },
  {
   "cell_type": "code",
   "execution_count": 4,
   "id": "ad5bef40",
   "metadata": {},
   "outputs": [
    {
     "name": "stdout",
     "output_type": "stream",
     "text": [
      "<class 'pandas.core.frame.DataFrame'>\n",
      "RangeIndex: 814 entries, 0 to 813\n",
      "Data columns (total 20 columns):\n",
      " #   Column         Non-Null Count  Dtype  \n",
      "---  ------         --------------  -----  \n",
      " 0   scheme_name    814 non-null    object \n",
      " 1   min_sip        814 non-null    int64  \n",
      " 2   min_lumpsum    814 non-null    int64  \n",
      " 3   expense_ratio  814 non-null    float64\n",
      " 4   fund_size_cr   814 non-null    float64\n",
      " 5   fund_age_yr    814 non-null    int64  \n",
      " 6   fund_manager   814 non-null    object \n",
      " 7   sortino        814 non-null    object \n",
      " 8   alpha          814 non-null    object \n",
      " 9   sd             814 non-null    object \n",
      " 10  beta           814 non-null    object \n",
      " 11  sharpe         814 non-null    object \n",
      " 12  risk_level     814 non-null    int64  \n",
      " 13  amc_name       814 non-null    object \n",
      " 14  rating         814 non-null    int64  \n",
      " 15  category       814 non-null    object \n",
      " 16  sub_category   814 non-null    object \n",
      " 17  returns_1yr    814 non-null    float64\n",
      " 18  returns_3yr    793 non-null    float64\n",
      " 19  returns_5yr    647 non-null    float64\n",
      "dtypes: float64(5), int64(5), object(10)\n",
      "memory usage: 127.3+ KB\n"
     ]
    }
   ],
   "source": [
    "mfd.info()"
   ]
  },
  {
   "cell_type": "code",
   "execution_count": null,
   "id": "a4dcbd8c",
   "metadata": {},
   "outputs": [],
   "source": []
  }
 ],
 "metadata": {
  "kernelspec": {
   "display_name": "Python 3 (ipykernel)",
   "language": "python",
   "name": "python3"
  },
  "language_info": {
   "codemirror_mode": {
    "name": "ipython",
    "version": 3
   },
   "file_extension": ".py",
   "mimetype": "text/x-python",
   "name": "python",
   "nbconvert_exporter": "python",
   "pygments_lexer": "ipython3",
   "version": "3.11.3"
  }
 },
 "nbformat": 4,
 "nbformat_minor": 5
}
